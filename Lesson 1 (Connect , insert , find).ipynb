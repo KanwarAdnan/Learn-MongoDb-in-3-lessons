{
 "cells": [
  {
   "cell_type": "code",
   "execution_count": 2,
   "id": "2e705c03",
   "metadata": {},
   "outputs": [],
   "source": [
    "import pymongo"
   ]
  },
  {
   "cell_type": "markdown",
   "id": "8e00d974",
   "metadata": {},
   "source": [
    "# Connect to MongoDb"
   ]
  },
  {
   "cell_type": "code",
   "execution_count": 5,
   "id": "4e994f04",
   "metadata": {},
   "outputs": [],
   "source": [
    "# As first practice we're connecting to localhost\n",
    "# We use MongoClient method to connect\n",
    "\n",
    "connectionUrl = 'localhost'\n",
    "client = pymongo.MongoClient(connectionUrl)"
   ]
  },
  {
   "cell_type": "code",
   "execution_count": 6,
   "id": "7f2e4889",
   "metadata": {},
   "outputs": [],
   "source": [
    "# Now It's time to make fresh database\n",
    "# This is the syntax for making new database or for using previously made (just write the name)\n",
    "\n",
    "database = client['newDataBase']"
   ]
  },
  {
   "cell_type": "code",
   "execution_count": 7,
   "id": "0f024b7d",
   "metadata": {},
   "outputs": [],
   "source": [
    "# In MongoDb we use collections to store our data\n",
    "# So we will make a new collection using the same methods\n",
    "\n",
    "collection = database['test']"
   ]
  },
  {
   "cell_type": "markdown",
   "id": "f5c9ea5f",
   "metadata": {},
   "source": [
    "# Insert (one)"
   ]
  },
  {
   "cell_type": "code",
   "execution_count": 8,
   "id": "bdfc893f",
   "metadata": {},
   "outputs": [
    {
     "data": {
      "text/plain": [
       "<pymongo.results.InsertOneResult at 0x24ef3221690>"
      ]
     },
     "execution_count": 8,
     "metadata": {},
     "output_type": "execute_result"
    }
   ],
   "source": [
    "# So for inserting data to collection we use insert function\n",
    "# This is python dictonary / Json object we only use these for entering data\n",
    "data = {\n",
    "    'name' : 'Kanwar',\n",
    "    'age' : 22\n",
    "}\n",
    "\n",
    "collection.insert_one(data)"
   ]
  },
  {
   "cell_type": "markdown",
   "id": "d6f39eba",
   "metadata": {},
   "source": [
    "# Insert (Many)"
   ]
  },
  {
   "cell_type": "code",
   "execution_count": 10,
   "id": "d196148e",
   "metadata": {},
   "outputs": [
    {
     "data": {
      "text/plain": [
       "<pymongo.results.InsertManyResult at 0x24ef1882aa0>"
      ]
     },
     "execution_count": 10,
     "metadata": {},
     "output_type": "execute_result"
    }
   ],
   "source": [
    "# A list of mentioned object is used to insert many records in collection\n",
    "records = [\n",
    "    {\n",
    "        'name' : 'Adnan',\n",
    "        'age' : 22\n",
    "    },\n",
    "    {\n",
    "        'name' : 'Akhtar',\n",
    "        'age' : 60\n",
    "    }\n",
    "]\n",
    "\n",
    "collection.insert_many(records)"
   ]
  },
  {
   "cell_type": "markdown",
   "id": "befc7400",
   "metadata": {},
   "source": [
    "# Display Records"
   ]
  },
  {
   "cell_type": "code",
   "execution_count": 14,
   "id": "1921c086",
   "metadata": {},
   "outputs": [
    {
     "data": {
      "text/plain": [
       "[{'_id': ObjectId('6352add80a9832d6e7d6157b'), 'name': 'Kanwar', 'age': 22},\n",
       " {'_id': ObjectId('6352ae780a9832d6e7d6157c'), 'name': 'Adnan', 'age': 22},\n",
       " {'_id': ObjectId('6352ae780a9832d6e7d6157d'), 'name': 'Akhtar', 'age': 60}]"
      ]
     },
     "execution_count": 14,
     "metadata": {},
     "output_type": "execute_result"
    }
   ],
   "source": [
    "# find method is used to display records from the collection\n",
    "\n",
    "records = collection.find()\n",
    "\n",
    "# This method returns the pymongo.cursor object so we need to convert it to list (iterate)\n",
    "\n",
    "records = list(records)\n",
    "records\n",
    "\n",
    "# See our records were entered and the output is good"
   ]
  },
  {
   "cell_type": "markdown",
   "id": "fe69675d",
   "metadata": {},
   "source": [
    "# In the next lesson we'll learn how to apply query in MongoDb"
   ]
  },
  {
   "cell_type": "code",
   "execution_count": null,
   "id": "e3466581",
   "metadata": {},
   "outputs": [],
   "source": []
  }
 ],
 "metadata": {
  "kernelspec": {
   "display_name": "Python 3 (ipykernel)",
   "language": "python",
   "name": "python3"
  },
  "language_info": {
   "codemirror_mode": {
    "name": "ipython",
    "version": 3
   },
   "file_extension": ".py",
   "mimetype": "text/x-python",
   "name": "python",
   "nbconvert_exporter": "python",
   "pygments_lexer": "ipython3",
   "version": "3.10.4"
  }
 },
 "nbformat": 4,
 "nbformat_minor": 5
}
